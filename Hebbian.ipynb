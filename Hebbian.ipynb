{
  "nbformat": 4,
  "nbformat_minor": 0,
  "metadata": {
    "colab": {
      "provenance": [],
      "authorship_tag": "ABX9TyOpTM2LgpV/Ozs0HM3vfjLS",
      "include_colab_link": true
    },
    "kernelspec": {
      "name": "python3",
      "display_name": "Python 3"
    },
    "language_info": {
      "name": "python"
    }
  },
  "cells": [
    {
      "cell_type": "markdown",
      "metadata": {
        "id": "view-in-github",
        "colab_type": "text"
      },
      "source": [
        "<a href=\"https://colab.research.google.com/github/kafSaugat7/Hebbian/blob/main/Hebbian.ipynb\" target=\"_parent\"><img src=\"https://colab.research.google.com/assets/colab-badge.svg\" alt=\"Open In Colab\"/></a>"
      ]
    },
    {
      "cell_type": "code",
      "execution_count": 1,
      "metadata": {
        "id": "UMFnhDJZQM4x"
      },
      "outputs": [],
      "source": [
        "import os\n",
        "import pandas as pd\n",
        "import numpy as np"
      ]
    },
    {
      "cell_type": "code",
      "source": [
        "class HebbianNeuron(object):\n",
        "  def __init__(self, shape, learning_rate =1, epoch=1):\n",
        "      self.shape = shape\n",
        "      self.learning_rate = learning_rate\n",
        "      self.epochs = epoch\n",
        "      self.weights = np.zeros(self.shape)\n",
        "      self.bias = np.zeros(1)\n",
        "\n",
        "  def train(self, inputs, targets):\n",
        "    updates = []\n",
        "    for epoch in range(self.epochs):\n",
        "        for i in range(len(inputs)):\n",
        "            input_pattern = inputs[i]\n",
        "            target = targets[i]\n",
        "            output = np.dot(self.weights, input_pattern)\n",
        "            self.weights += self.learning_rate * target * input_pattern\n",
        "            self.bias += self.learning_rate * target\n",
        "            updates.append([epoch + 1, i + 1, self.weights[0], self.weights[1], self.bias[0]])\n",
        "\n",
        "    df = pd.DataFrame(updates, columns=[\"Epoch\", \"Iteration\", \"Weight 1\", \"Weight 2\", \"Bias\"])\n",
        "    print(df.to_string(index=False))\n",
        "\n",
        "    return self.weights, self.bias\n",
        "\n",
        "  def predict(self, inputs, ret = False):\n",
        "      self.out_raw =[]\n",
        "      self.out_val =[]\n",
        "      for input_pattern in inputs:\n",
        "        output = input_pattern.dot(self.weights)+self.bias\n",
        "        self.out_raw.append(output)\n",
        "        self.out_val.append(1 if output>0 else -1)\n",
        "        if not ret:\n",
        "          print(f\"Input: {input_pattern}, Output:{output > 0}\")\n",
        "\n",
        "  def TruthTable(self, input, input_labels, output_labels):\n",
        "    table = pd.DataFrame(input, columns = input_labels)\n",
        "    self.predict(input,True)\n",
        "    table[output_labels] = pd.Series(self.out_val)\n",
        "    return table"
      ],
      "metadata": {
        "id": "od_X4FH-WgIy"
      },
      "execution_count": 2,
      "outputs": []
    },
    {
      "cell_type": "code",
      "source": [
        "inputs = np.array([[1, -1], [1, 1], [-1, -1], [-1, 1]])\n",
        "targets = np.array([1, -1, -1, 1])"
      ],
      "metadata": {
        "id": "s1ElgoqPWrjR"
      },
      "execution_count": 3,
      "outputs": []
    },
    {
      "cell_type": "code",
      "source": [
        "\n",
        "neuron = HebbianNeuron(shape=(2,), learning_rate=1, epoch=10)\n",
        "\n",
        "weights, bias = neuron.train(inputs, targets)\n",
        "\n",
        "neuron.predict(inputs)\n",
        "input_labels = ['Input 1', 'Input 2']\n",
        "output_labels = 'Output'\n",
        "truth_table = neuron.TruthTable(inputs, input_labels, output_labels)\n",
        "print(truth_table)"
      ],
      "metadata": {
        "colab": {
          "base_uri": "https://localhost:8080/"
        },
        "id": "TkI06xjSWrnb",
        "outputId": "1b9931df-b428-480d-cdbc-f948cabd2581"
      },
      "execution_count": 4,
      "outputs": [
        {
          "output_type": "stream",
          "name": "stdout",
          "text": [
            " Epoch  Iteration  Weight 1  Weight 2  Bias\n",
            "     1          1       1.0      -1.0   1.0\n",
            "     1          2       0.0      -2.0   0.0\n",
            "     1          3       1.0      -1.0  -1.0\n",
            "     1          4       0.0       0.0   0.0\n",
            "     2          1       1.0      -1.0   1.0\n",
            "     2          2       0.0      -2.0   0.0\n",
            "     2          3       1.0      -1.0  -1.0\n",
            "     2          4       0.0       0.0   0.0\n",
            "     3          1       1.0      -1.0   1.0\n",
            "     3          2       0.0      -2.0   0.0\n",
            "     3          3       1.0      -1.0  -1.0\n",
            "     3          4       0.0       0.0   0.0\n",
            "     4          1       1.0      -1.0   1.0\n",
            "     4          2       0.0      -2.0   0.0\n",
            "     4          3       1.0      -1.0  -1.0\n",
            "     4          4       0.0       0.0   0.0\n",
            "     5          1       1.0      -1.0   1.0\n",
            "     5          2       0.0      -2.0   0.0\n",
            "     5          3       1.0      -1.0  -1.0\n",
            "     5          4       0.0       0.0   0.0\n",
            "     6          1       1.0      -1.0   1.0\n",
            "     6          2       0.0      -2.0   0.0\n",
            "     6          3       1.0      -1.0  -1.0\n",
            "     6          4       0.0       0.0   0.0\n",
            "     7          1       1.0      -1.0   1.0\n",
            "     7          2       0.0      -2.0   0.0\n",
            "     7          3       1.0      -1.0  -1.0\n",
            "     7          4       0.0       0.0   0.0\n",
            "     8          1       1.0      -1.0   1.0\n",
            "     8          2       0.0      -2.0   0.0\n",
            "     8          3       1.0      -1.0  -1.0\n",
            "     8          4       0.0       0.0   0.0\n",
            "     9          1       1.0      -1.0   1.0\n",
            "     9          2       0.0      -2.0   0.0\n",
            "     9          3       1.0      -1.0  -1.0\n",
            "     9          4       0.0       0.0   0.0\n",
            "    10          1       1.0      -1.0   1.0\n",
            "    10          2       0.0      -2.0   0.0\n",
            "    10          3       1.0      -1.0  -1.0\n",
            "    10          4       0.0       0.0   0.0\n",
            "Input: [ 1 -1], Output:[False]\n",
            "Input: [1 1], Output:[False]\n",
            "Input: [-1 -1], Output:[False]\n",
            "Input: [-1  1], Output:[False]\n",
            "   Input 1  Input 2  Output\n",
            "0        1       -1      -1\n",
            "1        1        1      -1\n",
            "2       -1       -1      -1\n",
            "3       -1        1      -1\n"
          ]
        }
      ]
    }
  ]
}